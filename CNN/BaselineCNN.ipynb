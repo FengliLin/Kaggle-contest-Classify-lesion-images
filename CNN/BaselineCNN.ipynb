{
 "cells": [
  {
   "cell_type": "code",
   "execution_count": 1,
   "metadata": {},
   "outputs": [
    {
     "name": "stderr",
     "output_type": "stream",
     "text": [
      "Using TensorFlow backend.\n"
     ]
    }
   ],
   "source": [
    "import os\n",
    "import numpy as np\n",
    "import pandas as pd\n",
    "from skimage.io import imread\n",
    "from skimage.transform import resize\n",
    "import matplotlib.pyplot as plt\n",
    "from mpl_toolkits.axes_grid1 import AxesGrid\n",
    "from sklearn.svm import SVC\n",
    "from keras.utils.np_utils import to_categorical\n",
    "from keras.applications import VGG16\n",
    "from keras.applications.inception_v3 import InceptionV3\n",
    "from keras import models\n",
    "from keras import layers\n",
    "from keras import optimizers\n",
    "from keras.models import load_model\n",
    "from keras.preprocessing.image import ImageDataGenerator\n",
    "from sklearn.utils import class_weight\n",
    "from sklearn.model_selection import train_test_split\n",
    "from keras.applications.inception_v3 import InceptionV3\n",
    "from keras.preprocessing import image\n",
    "from keras.models import Model\n",
    "from keras.layers import Dense, GlobalAveragePooling2D\n",
    "from keras import backend as K\n",
    "from sklearn.model_selection import train_test_split\n",
    "from keras.utils.np_utils import to_categorical # convert to one-hot-encoding\n",
    "from tensorflow.keras.optimizers import Adam\n",
    "from tensorflow.keras.callbacks import ReduceLROnPlateau\n",
    "\n",
    "%matplotlib inline"
   ]
  },
  {
   "cell_type": "code",
   "execution_count": 2,
   "metadata": {},
   "outputs": [],
   "source": [
    "(img_rows, img_cols, nb_channels) = (64, 64, 3)\n",
    "image_shape = (64, 64, 3)\n",
    "\n",
    "def read_data(path='../data/train.csv'):  \n",
    "    data_train = pd.read_csv(path)\n",
    "    X_data_train = data_train['ImageId']\n",
    "    y_data_train = data_train['Malignant']\n",
    "    X_train_id = X_data_train.values\n",
    "    Y_train = y_data_train.values\n",
    "\n",
    "    # input image dimensions\n",
    "    (img_rows, img_cols, nb_channels) = (64, 64, 3)\n",
    "    nb_classes = 2\n",
    "    image_shape = (img_rows, img_cols, nb_channels)\n",
    "    #data_size = 15\n",
    "    data_size = X_train_id.shape[0]\n",
    "\n",
    "    # read data\n",
    "    X_image = np.zeros((data_size,img_rows, img_cols, nb_channels))\n",
    "    #X_image_mask = np.zeros((data_size,img_rows, img_cols, nb_channels))\n",
    "\n",
    "    for i in range(data_size):\n",
    "        name = X_train_id[i]\n",
    "        filename = '../data/im/{}.jpg'.format(name)\n",
    "        image = imread(filename)\n",
    "#         filename_Segmentation = 'data/im/{}_segmentation.jpg'.format(name)\n",
    "#         image_Segmentation = imread(filename_Segmentation) # Value 0 or 255\n",
    "#         image_Segmentation_boolean = (image_Segmentation/255).astype(np.uint8) # To get uint8\n",
    "#         image_Segmentation_expand = np.expand_dims(image_Segmentation_boolean, axis=2)\n",
    "#         image_mul_mask = (image_Segmentation_expand*image) \n",
    "        image = resize(image,image_shape, mode='reflect')\n",
    "        #image_mul_mask = resize(image_mul_mask,image_shape, mode='reflect')\n",
    "        X_image[i]= image\n",
    "        #X_image_mask[i] = image_mul_mask\n",
    "    return X_image.astype('float32')/255,Y_train[:data_size]"
   ]
  },
  {
   "cell_type": "code",
   "execution_count": 3,
   "metadata": {},
   "outputs": [
    {
     "name": "stderr",
     "output_type": "stream",
     "text": [
      "E:\\anaconda3\\lib\\site-packages\\skimage\\transform\\_warps.py:110: UserWarning: Anti-aliasing will be enabled by default in skimage 0.15 to avoid aliasing artifacts when down-sampling images.\n",
      "  warn(\"Anti-aliasing will be enabled by default in skimage 0.15 to \"\n"
     ]
    }
   ],
   "source": [
    "data,labels = read_data()\n",
    "X_train, X_test, y_train, y_test = train_test_split(data, labels, test_size=0.15, shuffle= True,random_state=42)\n",
    "class_weights = class_weight.compute_class_weight('balanced',np.unique(y_train),y_train)"
   ]
  },
  {
   "cell_type": "code",
   "execution_count": 4,
   "metadata": {},
   "outputs": [
    {
     "name": "stdout",
     "output_type": "stream",
     "text": [
      "X_train shape: (595, 64, 64, 3)\n",
      "y_train shape: (595,)\n",
      "X_test shape: (105, 64, 64, 3)\n",
      "y_test shape: (105,)\n",
      "There is 595 train data\n",
      "There is 105 test data\n",
      "64 64 3\n"
     ]
    }
   ],
   "source": [
    "print('X_train shape:', X_train.shape)\n",
    "print('y_train shape:', y_train.shape)\n",
    "print('X_test shape:', X_test.shape)\n",
    "print('y_test shape:', y_test.shape)\n",
    "print('There is {} train data'.format(X_train.shape[0]))\n",
    "print('There is {} test data'.format(X_test.shape[0]))\n",
    "print(img_rows, img_cols, nb_channels)"
   ]
  },
  {
   "cell_type": "code",
   "execution_count": 5,
   "metadata": {},
   "outputs": [
    {
     "name": "stdout",
     "output_type": "stream",
     "text": [
      "WARNING:tensorflow:From E:\\anaconda3\\lib\\site-packages\\tensorflow\\python\\framework\\op_def_library.py:263: colocate_with (from tensorflow.python.framework.ops) is deprecated and will be removed in a future version.\n",
      "Instructions for updating:\n",
      "Colocations handled automatically by placer.\n",
      "WARNING:tensorflow:From E:\\anaconda3\\lib\\site-packages\\keras\\backend\\tensorflow_backend.py:3445: calling dropout (from tensorflow.python.ops.nn_ops) with keep_prob is deprecated and will be removed in a future version.\n",
      "Instructions for updating:\n",
      "Please use `rate` instead of `keep_prob`. Rate should be set to `rate = 1 - keep_prob`.\n"
     ]
    }
   ],
   "source": [
    "# Our input feature map is 64x64x3: 64x64 for the image pixels, and 3 for\n",
    "# the three color channels: R, G, and B\n",
    "img_input = layers.Input(shape=(64, 64, 3))\n",
    "\n",
    "# First convolution extracts 16 filters that are 3x3\n",
    "# Convolution is followed by max-pooling layer with a 2x2 window\n",
    "x = layers.Conv2D(16, 3, activation='relu', padding='same')(img_input)\n",
    "x = layers.MaxPooling2D(2)(x)\n",
    "\n",
    "# Second convolution extracts 32 filters that are 3x3\n",
    "# Convolution is followed by max-pooling layer with a 2x2 window\n",
    "x = layers.Conv2D(32, 3, activation='relu', padding='same')(x)\n",
    "x = layers.MaxPooling2D(2)(x)\n",
    "\n",
    "# Third convolution extracts 64 filters that are 3x3\n",
    "# Convolution is followed by max-pooling layer with a 2x2 window\n",
    "x = layers.Convolution2D(64, 3, activation='relu', padding='same')(x)\n",
    "x = layers.MaxPooling2D(2)(x)\n",
    "\n",
    "# Flatten feature map to a 1-dim tensor\n",
    "x = layers.Flatten()(x)\n",
    "\n",
    "# Create a fully connected layer with ReLU activation and 512 hidden units\n",
    "x = layers.Dense(512, activation='relu')(x)\n",
    "\n",
    "# Add a dropout rate of 0.5\n",
    "x = layers.Dropout(0.2)(x)\n",
    "\n",
    "# Create output layer with a single node and sigmoid activation\n",
    "output = layers.Dense(1, activation='sigmoid')(x)\n",
    "\n",
    "# Configure and compile the model\n",
    "model = Model(img_input, output)\n",
    "model.compile(loss='binary_crossentropy', optimizer=optimizers.Adam(lr=0.001, beta_1=0.9, beta_2=0.999, epsilon=None, decay=0.0, amsgrad=False), metrics=['accuracy'])"
   ]
  },
  {
   "cell_type": "code",
   "execution_count": 6,
   "metadata": {},
   "outputs": [
    {
     "name": "stdout",
     "output_type": "stream",
     "text": [
      "_________________________________________________________________\n",
      "Layer (type)                 Output Shape              Param #   \n",
      "=================================================================\n",
      "input_1 (InputLayer)         (None, 64, 64, 3)         0         \n",
      "_________________________________________________________________\n",
      "conv2d_1 (Conv2D)            (None, 64, 64, 16)        448       \n",
      "_________________________________________________________________\n",
      "max_pooling2d_1 (MaxPooling2 (None, 32, 32, 16)        0         \n",
      "_________________________________________________________________\n",
      "conv2d_2 (Conv2D)            (None, 32, 32, 32)        4640      \n",
      "_________________________________________________________________\n",
      "max_pooling2d_2 (MaxPooling2 (None, 16, 16, 32)        0         \n",
      "_________________________________________________________________\n",
      "conv2d_3 (Conv2D)            (None, 16, 16, 64)        18496     \n",
      "_________________________________________________________________\n",
      "max_pooling2d_3 (MaxPooling2 (None, 8, 8, 64)          0         \n",
      "_________________________________________________________________\n",
      "flatten_1 (Flatten)          (None, 4096)              0         \n",
      "_________________________________________________________________\n",
      "dense_1 (Dense)              (None, 512)               2097664   \n",
      "_________________________________________________________________\n",
      "dropout_1 (Dropout)          (None, 512)               0         \n",
      "_________________________________________________________________\n",
      "dense_2 (Dense)              (None, 1)                 513       \n",
      "=================================================================\n",
      "Total params: 2,121,761\n",
      "Trainable params: 2,121,761\n",
      "Non-trainable params: 0\n",
      "_________________________________________________________________\n"
     ]
    }
   ],
   "source": [
    "model.summary()"
   ]
  },
  {
   "cell_type": "code",
   "execution_count": 7,
   "metadata": {},
   "outputs": [],
   "source": [
    "train_datagen = ImageDataGenerator(rotation_range=40, width_shift_range=0.2, height_shift_range=0.2,\n",
    "                             shear_range=0.2, zoom_range=0.2, horizontal_flip=True, fill_mode='nearest')\n",
    "train_datagen.fit(X_train)\n",
    "val_datagen = ImageDataGenerator()\n",
    "val_datagen.fit(X_test)"
   ]
  },
  {
   "cell_type": "code",
   "execution_count": 8,
   "metadata": {},
   "outputs": [
    {
     "name": "stdout",
     "output_type": "stream",
     "text": [
      "WARNING:tensorflow:From E:\\anaconda3\\lib\\site-packages\\tensorflow\\python\\ops\\math_ops.py:3066: to_int32 (from tensorflow.python.ops.math_ops) is deprecated and will be removed in a future version.\n",
      "Instructions for updating:\n",
      "Use tf.cast instead.\n",
      "Epoch 1/30\n",
      "37/37 [==============================] - 14s 368ms/step - loss: 0.6829 - acc: 0.5878 - val_loss: 0.6809 - val_acc: 0.5818\n",
      "Epoch 2/30\n",
      "37/37 [==============================] - 12s 327ms/step - loss: 0.6760 - acc: 0.6058 - val_loss: 0.6805 - val_acc: 0.5793\n",
      "Epoch 3/30\n",
      "37/37 [==============================] - 12s 321ms/step - loss: 0.6781 - acc: 0.5940 - val_loss: 0.6811 - val_acc: 0.5818\n",
      "Epoch 4/30\n",
      "37/37 [==============================] - 12s 315ms/step - loss: 0.6776 - acc: 0.5970 - val_loss: 0.6833 - val_acc: 0.5809\n",
      "Epoch 5/30\n",
      "37/37 [==============================] - 12s 317ms/step - loss: 0.6736 - acc: 0.6058 - val_loss: 0.6807 - val_acc: 0.5797\n",
      "Epoch 6/30\n",
      "37/37 [==============================] - 12s 325ms/step - loss: 0.6772 - acc: 0.5923 - val_loss: 0.6800 - val_acc: 0.5815\n",
      "Epoch 7/30\n",
      "37/37 [==============================] - 12s 317ms/step - loss: 0.6763 - acc: 0.6007 - val_loss: 0.6811 - val_acc: 0.5818\n",
      "Epoch 8/30\n",
      "37/37 [==============================] - 12s 317ms/step - loss: 0.6734 - acc: 0.6143 - val_loss: 0.6823 - val_acc: 0.5809\n",
      "Epoch 9/30\n",
      "37/37 [==============================] - 12s 319ms/step - loss: 0.6778 - acc: 0.5953 - val_loss: 0.6804 - val_acc: 0.5797\n",
      "Epoch 10/30\n",
      "37/37 [==============================] - 12s 320ms/step - loss: 0.6744 - acc: 0.6045 - val_loss: 0.6799 - val_acc: 0.5818\n",
      "Epoch 11/30\n",
      "37/37 [==============================] - 12s 324ms/step - loss: 0.6757 - acc: 0.6041 - val_loss: 0.6806 - val_acc: 0.5822\n",
      "Epoch 12/30\n",
      "37/37 [==============================] - 12s 317ms/step - loss: 0.6745 - acc: 0.5991 - val_loss: 0.6806 - val_acc: 0.5801\n",
      "Epoch 13/30\n",
      "37/37 [==============================] - 12s 319ms/step - loss: 0.6781 - acc: 0.5869 - val_loss: 0.6802 - val_acc: 0.5807\n",
      "Epoch 14/30\n",
      "37/37 [==============================] - 12s 317ms/step - loss: 0.6816 - acc: 0.5814 - val_loss: 0.6805 - val_acc: 0.5793\n",
      "Epoch 15/30\n",
      "37/37 [==============================] - 12s 318ms/step - loss: 0.6731 - acc: 0.6021 - val_loss: 0.6793 - val_acc: 0.5833\n",
      "Epoch 16/30\n",
      "37/37 [==============================] - 12s 316ms/step - loss: 0.6665 - acc: 0.6197 - val_loss: 0.6832 - val_acc: 0.5805\n",
      "Epoch 17/30\n",
      "37/37 [==============================] - 12s 318ms/step - loss: 0.6772 - acc: 0.5902 - val_loss: 0.6795 - val_acc: 0.5829\n",
      "Epoch 18/30\n",
      "37/37 [==============================] - 12s 320ms/step - loss: 0.6804 - acc: 0.5805 - val_loss: 0.6813 - val_acc: 0.5775\n",
      "Epoch 19/30\n",
      "37/37 [==============================] - 12s 318ms/step - loss: 0.6654 - acc: 0.6231 - val_loss: 0.6811 - val_acc: 0.5829\n",
      "Epoch 20/30\n",
      "37/37 [==============================] - 12s 317ms/step - loss: 0.6734 - acc: 0.5991 - val_loss: 0.6807 - val_acc: 0.5805\n",
      "Epoch 21/30\n",
      "37/37 [==============================] - 12s 323ms/step - loss: 0.6736 - acc: 0.6004 - val_loss: 0.6807 - val_acc: 0.5815\n",
      "Epoch 22/30\n",
      "37/37 [==============================] - 12s 329ms/step - loss: 0.6869 - acc: 0.5662 - val_loss: 0.6801 - val_acc: 0.5807\n",
      "Epoch 23/30\n",
      "37/37 [==============================] - 12s 320ms/step - loss: 0.6708 - acc: 0.6126 - val_loss: 0.6805 - val_acc: 0.5807\n",
      "Epoch 24/30\n",
      "37/37 [==============================] - 12s 317ms/step - loss: 0.6675 - acc: 0.6143 - val_loss: 0.6812 - val_acc: 0.5809\n",
      "Epoch 25/30\n",
      "37/37 [==============================] - 12s 322ms/step - loss: 0.6802 - acc: 0.5835 - val_loss: 0.6804 - val_acc: 0.5804\n",
      "Epoch 26/30\n",
      "37/37 [==============================] - 12s 319ms/step - loss: 0.6812 - acc: 0.5801 - val_loss: 0.6802 - val_acc: 0.5804\n",
      "Epoch 27/30\n",
      "37/37 [==============================] - 12s 319ms/step - loss: 0.6614 - acc: 0.6332 - val_loss: 0.6807 - val_acc: 0.5818\n",
      "Epoch 28/30\n",
      "37/37 [==============================] - 12s 319ms/step - loss: 0.6723 - acc: 0.6028 - val_loss: 0.6814 - val_acc: 0.5812\n",
      "Epoch 29/30\n",
      "37/37 [==============================] - 12s 319ms/step - loss: 0.6751 - acc: 0.5974 - val_loss: 0.6807 - val_acc: 0.5811\n",
      "Epoch 30/30\n",
      "37/37 [==============================] - 12s 318ms/step - loss: 0.6747 - acc: 0.5970 - val_loss: 0.6812 - val_acc: 0.5797\n"
     ]
    }
   ],
   "source": [
    "batch_size = 16\n",
    "epochs = 30\n",
    "history = model.fit_generator(train_datagen.flow(X_train,y_train, batch_size=batch_size),\n",
    "                              epochs = epochs, validation_steps=X_test.shape[0],validation_data = val_datagen.flow(X_test, y_test),\n",
    "                              verbose = 1, steps_per_epoch=(X_train.shape[0] // batch_size),class_weight=class_weights)"
   ]
  },
  {
   "cell_type": "code",
   "execution_count": 9,
   "metadata": {},
   "outputs": [
    {
     "name": "stdout",
     "output_type": "stream",
     "text": [
      "105/105 [==============================] - 0s 3ms/step\n",
      "Test: accuracy = 0.580952  ;  loss = 0.680631\n"
     ]
    }
   ],
   "source": [
    "loss_test, acc_test = model.evaluate(X_test, y_test, verbose=1)\n",
    "print(\"Test: accuracy = %f  ;  loss = %f\" % (acc_test, loss_test))\n",
    "model.save(\"BaselineCNN.h5\")"
   ]
  },
  {
   "cell_type": "code",
   "execution_count": 10,
   "metadata": {},
   "outputs": [
    {
     "data": {
      "text/plain": [
       "Text(0.5, 1.0, 'Training and validation loss')"
      ]
     },
     "execution_count": 10,
     "metadata": {},
     "output_type": "execute_result"
    },
    {
     "data": {
      "image/png": "[encoded data removed]",
      "text/plain": [
       "<Figure size 432x288 with 1 Axes>"
      ]
     },
     "metadata": {
      "needs_background": "light"
     },
     "output_type": "display_data"
    },
    {
     "data": {
      "image/png": "[encoded data removed]",
      "text/plain": [
       "<Figure size 432x288 with 1 Axes>"
      ]
     },
     "metadata": {
      "needs_background": "light"
     },
     "output_type": "display_data"
    }
   ],
   "source": [
    "# Retrieve a list of accuracy results on training and test data\n",
    "# sets for each training epoch\n",
    "acc = history.history['acc']\n",
    "val_acc = history.history['val_acc']\n",
    "\n",
    "# Retrieve a list of list results on training and test data\n",
    "# sets for each training epoch\n",
    "loss = history.history['loss']\n",
    "val_loss = history.history['val_loss']\n",
    "\n",
    "# Get number of epochs\n",
    "epochs = range(len(acc))\n",
    "\n",
    "# Plot training and validation accuracy per epoch\n",
    "plt.plot(epochs, acc)\n",
    "plt.plot(epochs, val_acc)\n",
    "plt.title('Training and validation accuracy')\n",
    "\n",
    "plt.figure()\n",
    "\n",
    "# Plot training and validation loss per epoch\n",
    "plt.plot(epochs, loss)\n",
    "plt.plot(epochs, val_loss)\n",
    "plt.title('Training and validation loss')"
   ]
  }
 ],
 "metadata": {
  "kernelspec": {
   "display_name": "Python 3",
   "language": "python",
   "name": "python3"
  },
  "language_info": {
   "codemirror_mode": {
    "name": "ipython",
    "version": 3
   },
   "file_extension": ".py",
   "mimetype": "text/x-python",
   "name": "python",
   "nbconvert_exporter": "python",
   "pygments_lexer": "ipython3",
   "version": "3.7.3"
  }
 },
 "nbformat": 4,
 "nbformat_minor": 2
}
