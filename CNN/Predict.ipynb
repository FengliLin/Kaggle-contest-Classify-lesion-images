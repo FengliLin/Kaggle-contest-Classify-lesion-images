{
 "cells": [
  {
   "cell_type": "code",
   "execution_count": 1,
   "metadata": {},
   "outputs": [
    {
     "name": "stderr",
     "output_type": "stream",
     "text": [
      "Using TensorFlow backend.\n"
     ]
    }
   ],
   "source": [
    "import os\n",
    "import numpy as np\n",
    "import pandas as pd\n",
    "import cv2\n",
    "from skimage.io import imread\n",
    "from skimage.transform import resize\n",
    "from sklearn.model_selection import train_test_split\n",
    "import matplotlib.pyplot as plt\n",
    "from mpl_toolkits.axes_grid1 import AxesGrid\n",
    "from sklearn.utils import class_weight\n",
    "from sklearn.metrics import classification_report\n",
    "from sklearn.metrics import confusion_matrix\n",
    "import itertools\n",
    "from keras.utils.np_utils import to_categorical\n",
    "from keras.applications.inception_v3 import InceptionV3\n",
    "from keras import models\n",
    "from keras import layers\n",
    "from keras import optimizers\n",
    "from keras.models import load_model\n",
    "from keras.preprocessing.image import ImageDataGenerator\n",
    "from keras.preprocessing import image\n",
    "from keras.models import Model\n",
    "from keras.layers import Dense, GlobalAveragePooling2D\n",
    "from keras import backend as K\n",
    "from keras.utils.np_utils import to_categorical  # convert to one-hot-encoding\n",
    "from tensorflow.keras.optimizers import Adam\n",
    "from tensorflow.keras.callbacks import ReduceLROnPlateau\n",
    "\n",
    "%matplotlib inline"
   ]
  },
  {
   "cell_type": "markdown",
   "metadata": {},
   "source": [
    "## Load model"
   ]
  },
  {
   "cell_type": "code",
   "execution_count": 2,
   "metadata": {},
   "outputs": [
    {
     "name": "stdout",
     "output_type": "stream",
     "text": [
      "WARNING:tensorflow:From /Users/lin/anaconda3/lib/python3.7/site-packages/tensorflow/python/framework/op_def_library.py:263: colocate_with (from tensorflow.python.framework.ops) is deprecated and will be removed in a future version.\n",
      "Instructions for updating:\n",
      "Colocations handled automatically by placer.\n",
      "WARNING:tensorflow:From /Users/lin/anaconda3/lib/python3.7/site-packages/keras/backend/tensorflow_backend.py:3445: calling dropout (from tensorflow.python.ops.nn_ops) with keep_prob is deprecated and will be removed in a future version.\n",
      "Instructions for updating:\n",
      "Please use `rate` instead of `keep_prob`. Rate should be set to `rate = 1 - keep_prob`.\n",
      "WARNING:tensorflow:From /Users/lin/anaconda3/lib/python3.7/site-packages/tensorflow/python/ops/math_ops.py:3066: to_int32 (from tensorflow.python.ops.math_ops) is deprecated and will be removed in a future version.\n",
      "Instructions for updating:\n",
      "Use tf.cast instead.\n",
      "Loaded model\n"
     ]
    }
   ],
   "source": [
    "model = load_model('InterceptionV3_orignial.h5')\n",
    "print(\"Loaded model\")\n",
    "(img_rows, img_cols, nb_channels) = (299,299, 3)\n",
    "image_shape = (img_rows, img_cols, nb_channels)"
   ]
  },
  {
   "cell_type": "markdown",
   "metadata": {},
   "source": [
    "## Load train_val data"
   ]
  },
  {
   "cell_type": "code",
   "execution_count": 3,
   "metadata": {},
   "outputs": [
    {
     "name": "stderr",
     "output_type": "stream",
     "text": [
      "/Users/lin/anaconda3/lib/python3.7/site-packages/skimage/transform/_warps.py:110: UserWarning: Anti-aliasing will be enabled by default in skimage 0.15 to avoid aliasing artifacts when down-sampling images.\n",
      "  warn(\"Anti-aliasing will be enabled by default in skimage 0.15 to \"\n"
     ]
    },
    {
     "name": "stdout",
     "output_type": "stream",
     "text": [
      "Loaded file\n"
     ]
    }
   ],
   "source": [
    "data = pd.read_csv('../data/train.csv')\n",
    "X_data = data['ImageId']\n",
    "y_data = data['Malignant']\n",
    "X_id = X_data.values\n",
    "Y = y_data.values\n",
    "    \n",
    "X = np.zeros((data['ImageId'].shape[0],img_rows, img_cols, nb_channels))\n",
    "for i in range(X_id.shape[0]):\n",
    "    name = X_id[i]\n",
    "    filename = '../data/im/{}.jpg'.format(name)\n",
    "    image = imread(filename)\n",
    "#     filename_Segmentation = 'data/im/{}_segmentation.jpg'.format(name)\n",
    "#     image_Segmentation = imread(filename_Segmentation) # Value 0 or 255\n",
    "#     image_Segmentation_boolean = (image_Segmentation/255).astype(np.uint8) # To get uint8\n",
    "#     image_Segmentation_expand = np.expand_dims(image_Segmentation_boolean, axis=2)\n",
    "#     image_mul_mask = (image_Segmentation_expand*image) \n",
    "    image = resize(image,image_shape, mode='reflect')\n",
    "    #image_mul_mask = resize(image_mul_mask,image_shape, mode='reflect')\n",
    "    X[i]= image#_mul_mask\n",
    "print(\"Loaded file\")"
   ]
  },
  {
   "cell_type": "code",
   "execution_count": 4,
   "metadata": {},
   "outputs": [],
   "source": [
    "X_train, X_val, y_train, y_val = train_test_split(X, Y, test_size=0.15, random_state=42)"
   ]
  },
  {
   "cell_type": "code",
   "execution_count": 5,
   "metadata": {},
   "outputs": [],
   "source": [
    "def plot_confusion_matrix(cm, classes,\n",
    "                          normalize=False,\n",
    "                          title='Confusion matrix',\n",
    "                          cmap=plt.cm.Blues):\n",
    "    \"\"\"\n",
    "    This function prints and plots the confusion matrix.\n",
    "    Normalization can be applied by setting `normalize=True`.\n",
    "    \"\"\"\n",
    "    if normalize:\n",
    "        cm = cm.astype('float') / cm.sum(axis=1)[:, np.newaxis]\n",
    "        print(\"Normalized confusion matrix\")\n",
    "    else:\n",
    "        print('Confusion matrix, without normalization')\n",
    "\n",
    "    print(cm)\n",
    "\n",
    "    plt.imshow(cm, interpolation='nearest', cmap=cmap)\n",
    "    plt.title(title)\n",
    "    plt.colorbar()\n",
    "    tick_marks = np.arange(len(classes))\n",
    "    plt.xticks(tick_marks, classes, rotation=45)\n",
    "    plt.yticks(tick_marks, classes)\n",
    "\n",
    "    fmt = '.2f' if normalize else 'd'\n",
    "    thresh = cm.max() / 2.\n",
    "    for i, j in itertools.product(range(cm.shape[0]), range(cm.shape[1])):\n",
    "        plt.text(j, i, format(cm[i, j], fmt),\n",
    "                 horizontalalignment=\"center\",\n",
    "                 color=\"white\" if cm[i, j] > thresh else \"black\")\n",
    "\n",
    "    plt.ylabel('True label')\n",
    "    plt.xlabel('Predicted label')\n",
    "    plt.tight_layout()"
   ]
  },
  {
   "cell_type": "code",
   "execution_count": 6,
   "metadata": {},
   "outputs": [
    {
     "name": "stdout",
     "output_type": "stream",
     "text": [
      "105/105 [==============================] - 0s 2ms/step\n",
      "              precision    recall  f1-score   support\n",
      "\n",
      "           0       0.58      1.00      0.73        61\n",
      "           1       0.00      0.00      0.00        44\n",
      "\n",
      "   micro avg       0.58      0.58      0.58       105\n",
      "   macro avg       0.29      0.50      0.37       105\n",
      "weighted avg       0.34      0.58      0.43       105\n",
      "\n",
      "Normalized confusion matrix\n",
      "[[1. 0.]\n",
      " [1. 0.]]\n"
     ]
    },
    {
     "name": "stderr",
     "output_type": "stream",
     "text": [
      "/Users/lin/anaconda3/lib/python3.7/site-packages/sklearn/metrics/classification.py:1143: UndefinedMetricWarning: Precision and F-score are ill-defined and being set to 0.0 in labels with no predicted samples.\n",
      "  'precision', 'predicted', average, warn_for)\n"
     ]
    },
    {
     "data": {
      "image/png": "[encoded data removed]",
      "text/plain": [
       "<Figure size 432x288 with 2 Axes>"
      ]
     },
     "metadata": {
      "needs_background": "light"
     },
     "output_type": "display_data"
    }
   ],
   "source": [
    "y_pred = model.predict(X_val,verbose=1)\n",
    "\n",
    "threshold = 0.5#np.median(y_val)\n",
    "y_pred[y_pred>threshold]=1\n",
    "y_pred[y_pred<=threshold]=0\n",
    "class_names = [\"benign\",\"melanoma\"]\n",
    "print(classification_report(y_val, y_pred))\n",
    "# Compute confusion matrix\n",
    "cnf_matrix = confusion_matrix(y_val, y_pred)\n",
    "# Plot normalized confusion matrix\n",
    "plt.figure()\n",
    "plot_confusion_matrix(cnf_matrix, classes=class_names, normalize=True,\n",
    "                          title='InceptionV3 mask image Normalized confusion matrix')\n",
    "plt.show()"
   ]
  },
  {
   "cell_type": "markdown",
   "metadata": {},
   "source": [
    "## Load test data"
   ]
  },
  {
   "cell_type": "code",
   "execution_count": null,
   "metadata": {},
   "outputs": [],
   "source": [
    "df_submission = pd.read_csv('../data/test.csv')\n",
    "X_data= df_submission['ImageId']\n",
    "X_id = X_data.values\n",
    "    \n",
    "X_test = np.zeros((df_submission['ImageId'].shape[0],img_rows, img_cols, nb_channels))\n",
    "for i in range(X_id.shape[0]):\n",
    "    name = X_id[i]\n",
    "    filename = 'data/im/{}.jpg'.format(name)\n",
    "    image = imread(filename)\n",
    "#     filename_Segmentation = 'data/im/{}_segmentation.jpg'.format(name)\n",
    "#     image_Segmentation = imread(filename_Segmentation) # Value 0 or 255\n",
    "#     image_Segmentation_boolean = (image_Segmentation/255).astype(np.uint8) # To get uint8\n",
    "#     image_Segmentation_expand = np.expand_dims(image_Segmentation_boolean, axis=2)\n",
    "#     image_mul_mask = (image_Segmentation_expand*image) \n",
    "    image = resize(image,image_shape, mode='reflect')\n",
    "#     image_mul_mask = resize(image_mul_mask,image_shape, mode='reflect')\n",
    "    X_test[i]= image#_mul_mask\n",
    "print(\"Loaded file\")"
   ]
  },
  {
   "cell_type": "code",
   "execution_count": null,
   "metadata": {},
   "outputs": [],
   "source": [
    "y_test = model.predict(X_test,verbose=1)\n",
    "print(y_test)"
   ]
  },
  {
   "cell_type": "code",
   "execution_count": null,
   "metadata": {},
   "outputs": [],
   "source": [
    "print(np.median(y_test))\n",
    "print(y_test.mean())\n",
    "print(y_test.max())\n",
    "print(y_test.min())\n",
    "print(y_test.std())"
   ]
  },
  {
   "cell_type": "code",
   "execution_count": null,
   "metadata": {},
   "outputs": [],
   "source": [
    "#write to file\n",
    "#df_submission.loc[:, 'Malignant'] = np.argmax(y_test,axis=1)\n",
    "threshold = 0.5 #np.median(y_test)\n",
    "y_test[y_test>threshold]=1\n",
    "y_test[y_test<=threshold]=0\n",
    "df_submission.loc[:, 'Malignant'] = y_test #np.argmax(y_test,axis=1)\n",
    "df_submission['Malignant'] = df_submission['Malignant'].astype(int) # This line is mandatory to be sure to have integer\n",
    "print(df_submission.head(3))\n",
    "df_submission.to_csv('../data/test_InterceptionV3_original.csv', index=None, sep=',', mode='w') # Save the data in the exemple_test.csv file"
   ]
  }
 ],
 "metadata": {
  "kernelspec": {
   "display_name": "Python 3",
   "language": "python",
   "name": "python3"
  },
  "language_info": {
   "codemirror_mode": {
    "name": "ipython",
    "version": 3
   },
   "file_extension": ".py",
   "mimetype": "text/x-python",
   "name": "python",
   "nbconvert_exporter": "python",
   "pygments_lexer": "ipython3",
   "version": "3.7.3"
  }
 },
 "nbformat": 4,
 "nbformat_minor": 2
}
